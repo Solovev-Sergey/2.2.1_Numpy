{
 "cells": [
  {
   "cell_type": "code",
   "execution_count": 178,
   "metadata": {},
   "outputs": [],
   "source": [
    "import numpy as np\n",
    "import scipy\n",
    "import re\n",
    "\n",
    "def t1_file_stat(filename):\n",
    "    data = np.loadtxt(filename, delimiter = '\\n', dtype = np.int, usecols = len(re.findall(r\"[\\n']+\", filename))) \n",
    "    if data.size <= 2:\n",
    "        return \"Try again\"\n",
    "    else:\n",
    "        return {                \n",
    "        \"mean\": data.mean(),\n",
    "        \"max\": data.max(),\n",
    "        \"min\": data.min(),\n",
    "        \"std_dev\": data.std(),\n",
    "        \"5th_central_moment\": scipy.stats.moment(data, moment = 5, nan_policy='propagate'),\n",
    "        }\n",
    "def t2_sort_int(array):\n",
    "    return sorted(array)\n",
    "def t3_sort_complex(complex_array):\n",
    "    a = []\n",
    "    b = []\n",
    "    for i in complex_array:\n",
    "        a.append(abs(i))\n",
    "    for j in complex_array:\n",
    "        b.append(j.real)\n",
    "    return (sorted(a), sorted(b)[::-1])\n",
    "def t4_sort_string_len(string_array):\n",
    "    a = []\n",
    "    for i in string_array:\n",
    "        a.append(len(i))\n",
    "    return sorted(a)\n",
    "def t5_sort_string_tuple(string_tuple):\n",
    "    return sorted(sorted(string_tuple), key=str.upper)"
   ]
  }
 ],
 "metadata": {
  "kernelspec": {
   "display_name": "Python 3",
   "language": "python",
   "name": "python3"
  },
  "language_info": {
   "codemirror_mode": {
    "name": "ipython",
    "version": 3
   },
   "file_extension": ".py",
   "mimetype": "text/x-python",
   "name": "python",
   "nbconvert_exporter": "python",
   "pygments_lexer": "ipython3",
   "version": "3.7.5"
  }
 },
 "nbformat": 4,
 "nbformat_minor": 2
}
